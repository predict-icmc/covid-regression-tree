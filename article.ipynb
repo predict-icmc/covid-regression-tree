{
 "cells": [
  {
   "cell_type": "markdown",
   "metadata": {},
   "source": [
    "# Árvores de regressão para previsão de casos de covid-19 por 100 mil habitantes em municípios brasileiros\n",
    "\n",
    "Nessa análise, iremos reproduzir o artigo disponível em https://www.thelancet.com/journals/lanam/article/PIIS2667-193X(22)00038-2/\n",
    "\n",
    "Ajustaremos nosso modelo de árvores de regressão utilizando a biblioteca `sklearn`, e a visualização realizada com auxílio da library `graphviz`. Um arquivo .png é salvo na pasta do projeto com os resultados da análise. "
   ]
  },
  {
   "cell_type": "code",
   "execution_count": 2,
   "metadata": {},
   "outputs": [],
   "source": [
    "import pandas as pd\n",
    "import sklearn as sk\n",
    "from sklearn.tree import DecisionTreeRegressor\n",
    "from sklearn import tree\n",
    "from graphviz import Source\n",
    "from IPython.display import SVG"
   ]
  },
  {
   "cell_type": "code",
   "execution_count": 3,
   "metadata": {},
   "outputs": [],
   "source": [
    "#read xlsx ~/xavier-lancet/mmc3.xlsx\n",
    "df = pd.read_excel('mmc3.xlsx')"
   ]
  },
  {
   "cell_type": "code",
   "execution_count": 4,
   "metadata": {},
   "outputs": [],
   "source": [
    "# remove NaN values\n",
    "df = df.dropna()"
   ]
  },
  {
   "cell_type": "code",
   "execution_count": 5,
   "metadata": {},
   "outputs": [],
   "source": [
    "# variável resposta\n",
    "resp = df['V1']"
   ]
  },
  {
   "cell_type": "code",
   "execution_count": 6,
   "metadata": {},
   "outputs": [],
   "source": [
    "# variáveis preditoras\n",
    "pred = df[['V2', 'V3', 'V4', 'V5', 'V6']]"
   ]
  },
  {
   "cell_type": "code",
   "execution_count": 7,
   "metadata": {},
   "outputs": [],
   "source": [
    "# fit a regression tree model\n",
    "fit = DecisionTreeRegressor(max_depth=5, max_leaf_nodes = 51).fit(pred, resp)"
   ]
  },
  {
   "cell_type": "code",
   "execution_count": 33,
   "metadata": {},
   "outputs": [
    {
     "data": {
      "text/plain": [
       "'dtree_render.png'"
      ]
     },
     "execution_count": 33,
     "metadata": {},
     "output_type": "execute_result"
    }
   ],
   "source": [
    "# plota o gráfico num arquivo png dentro da working directory\n",
    "\n",
    "graph = Source(tree.export_graphviz(fit, out_file=None, rotate=True, feature_names=pred.columns, filled = True,\n",
    " rounded = True, special_characters=True, precision = 2, impurity = False, label = 'root'))\n",
    "graph.format = 'png'\n",
    "graph.render('dtree_render',view=True)"
   ]
  }
 ],
 "metadata": {
  "interpreter": {
   "hash": "d920ab8b643b361201af53703bcb9bb781b8806bdfaeb2db70b0d8da546d3b6e"
  },
  "kernelspec": {
   "display_name": "Python 3.8.13 ('pyc')",
   "language": "python",
   "name": "python3"
  },
  "language_info": {
   "codemirror_mode": {
    "name": "ipython",
    "version": 3
   },
   "file_extension": ".py",
   "mimetype": "text/x-python",
   "name": "python",
   "nbconvert_exporter": "python",
   "pygments_lexer": "ipython3",
   "version": "3.8.13"
  },
  "orig_nbformat": 4
 },
 "nbformat": 4,
 "nbformat_minor": 2
}
